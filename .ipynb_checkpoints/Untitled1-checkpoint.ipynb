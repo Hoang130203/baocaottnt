{
 "cells": [
  {
   "cell_type": "markdown",
   "id": "c10fc6e5-59ba-43c8-8b52-cd90f1b3af5d",
   "metadata": {},
   "source": [
    "<h1 style=\"text-align:center\"> Báo cáo tiến độ giữa kỳ bài tập lớn môn Nhập môn Trí tuệ nhân tạo</h1>\n",
    "<h3 style=\" text-align:center\">Nhóm 16</h3>\n",
    "<div style=\"margin-left:100px;\">\n",
    "    <h3>Thành viên:</h3>  \n",
    "    <div style=\"margin-left:20px\">\n",
    "        <ul>\n",
    "            <li><h5>Mai Minh Hoàng</h5></li>\n",
    "            <li><h5>Vũ Ngọc Anh</h5></li>\n",
    "            <li><h5>Tăng Minh Vũ</h5></li>\n",
    "            <li><h5>Vũ Văn Tú</h5></li>\n",
    "        </ul>\n",
    "<div/>\n",
    "<div style=\"position:absolute; top:50px;left:0px\">\n",
    "    <img src=\"bao-cao-cong-viec.jpg\"  style=\" width: 100px;height:60px;\"/>\n",
    "</div>\n"
   ]
  },
  {
   "cell_type": "markdown",
   "id": "94f74865-0c5a-403b-87ba-330e1de4954f",
   "metadata": {},
   "source": [
    "# Nội dung\n",
    "### [1.  Phương pháp thực hiện và thuật toán](#Phần-1.-Phương-pháp-thực-hiện-và-thuật-toán)\n",
    "#### &ensp;&ensp;&ensp;[1.1.  Phương pháp thực hiện](#1.1-Phương-pháp-thực-hiện)\n",
    "#### &ensp;&ensp;&ensp;[1.2.  Các thuật toán sử dụng](#1.2-Các-thuật-toán-sử-dụng)\n",
    "### [2.  Kết quả thực hiện](#Phần-2.-Kết-quả-thực-hiện)\n",
    "#### &ensp;&ensp;&ensp;[2.1.  Hình ảnh minh họa](#2.1-Hình-ảnh-minh-họa)\n",
    "#### &ensp;&ensp;&ensp;[2.2.  Đánh giá kết quả](#2.2-Đánh-giá-kết-quả)\n",
    "### [3.  Khó khăn cần giải quyết](#Phần-3.-Những-khó-khăn-gặp-phải)\n"
   ]
  },
  {
   "cell_type": "markdown",
   "id": "c0e43169-58cc-47a0-89df-74154c6ba3c0",
   "metadata": {},
   "source": [
    "# Phần 1.   Phương pháp thực hiện và thuật toán"
   ]
  },
  {
   "cell_type": "markdown",
   "id": "3f283677-3881-4d57-8095-ad96dd316baf",
   "metadata": {},
   "source": [
    "### 1.1    Phương pháp thực hiện"
   ]
  },
  {
   "cell_type": "markdown",
   "id": "549f12f2-3ba3-4cd7-b9d9-74524841aa10",
   "metadata": {},
   "source": [
    "<div style=\"margin-left:40px\">\n",
    "    <ul>\n",
    "        <li><h3>Ngôn ngữ lập trình:   C#</h3></li>\n",
    "        <img src=\"916600200c-sharp-c-seeklogo.com.png\" style=\"width:100px;height:auto;margin:10px;margin-left:60px;\"/>\n",
    "        <li><h3>Thư viện sử dụng:   Unity</h3></li>\n",
    "        <img src=\"unity.png\"/>\n",
    "        <li><h3>Thứ tự xây dựng chương trình:</h3>\n",
    "            <ol>\n",
    "                <li>Thảo luận để lên ý tưởng</li>\n",
    "                <li>Xây dựng giao diện bằng unity</li>\n",
    "                <li>Code các tương tác trong giao diện, cơ chế game</li>\n",
    "                <li>Code thuật toán</li>\n",
    "                <li>Kiểm thử, đánh giá, cải tiến</li>\n",
    "            </ol>\n",
    "        </li>\n",
    "    </ul>\n",
    "</div>"
   ]
  },
  {
   "cell_type": "markdown",
   "id": "6cac6ce3-2a73-4a5e-b993-b137245bea64",
   "metadata": {},
   "source": [
    "### 1.2 Các thuật toán sử dụng"
   ]
  },
  {
   "cell_type": "markdown",
   "id": "574438c3-2a81-44ea-8f1c-6f4667995943",
   "metadata": {},
   "source": [
    "<div style=\"margin-left:40px\">\n",
    "    <ul>\n",
    "        <li><h3>Hàm đánh giá heuristic</h3>\n",
    "            <div style=\"margin-left:15px; font-size:15px;\">\n",
    "                <p>Với thuật toán này, AI sẽ lựa chọn bước đi tiếp theo bằng cách đánh giá tất cả ô còn trống trên bàn cờ sau đó</p>\n",
    "                <p>tính toán điểm số và lựa chọn ô trống có số điểm cao nhất, tiêu chí để đánh giá điểm bao gồm có điểm tấn công và</p>\n",
    "                <p>phòng thủ cụ thể như sau:</p>\n",
    "                <p>Đầu tiên là mảng điểm để đánh giá :</p>\n",
    "                <img src=\"heuristic-3.png\"/>\n",
    "                <p>Các hàm tính điểm: </p>\n",
    "                <img src=\"heuristic-1.png\" style=\"width:600px;\"/>\n",
    "                <p>Cụ thể, trong hàm tính điểm tấn công có dạng:</p>\n",
    "                <img src=\"heuristic-2.png\" style=\"width:600px;\"/>\n",
    "                <p>Đầu vào của hàm tính điểm tấn công là hàng, cột, bàn cờ đang đánh (cái này hơi thừa) và người sẽ đánh lượt tiếp (1 hoặc 2) </p>\n",
    "                <p>Thuật toán sẽ tính toán xem nếu xuất phát từ điểm trống đó tới 4 hướng dọc, ngang, chéo trái, chéo phải, và tính</p>\n",
    "                <p>ra hướng đó có bao nhiêu quân cùng của người dó liên tục nếu đánh quân cờ tiếp theo tại vị trí đang xét, nếu gặp quân kẻ</p>\n",
    "                <p>địch thì bị trừ số điểm tương ứng trong mảng điểm phòng thủ, và tổng điểm được cộng thêm bằng độ dài chuỗi liên tục</p>\n",
    "                <p> của bản thân tương ứng trong mảng</p>\n",
    "                <p>.Các hàm tính điểm phòng thủ có dạng:</p>\n",
    "                <img src=\"heuristic-4.png\" style=\"width:600px\"/>\n",
    "                <p>Các hàm phòng thủ có mục đích đánh giá nếu đánh tại ô trống đó thì sẽ cản được địch như nào</p>\n",
    "                <p>Cuối cùng là tính toán tổng điểm tấn công so với điểm phòng thủ, điểm cuối cùng của ô trống đó là điểm số lớn hơn của 2</p>\n",
    "                <p>cách tính đó, với hàm SearchForChess sẽ trả về ô trống có điểm lớn nhất và AI sẽ đánh vào ô trống đó: </p>\n",
    "                <img src=\"heuristic-5.png\" style=\"width:800px\"/>\n",
    "            </div>\n",
    "        </li>\n",
    "        <li><h3>Minimax kết hợp cắt tỉa alpha beta</h3>\n",
    "            <div style=\"margin-left:15px; font-size:15px;\">\n",
    "                <p>Với thuật toán Minimax có thể chọn độ sâu để tính trước bước đi và với những nhánh không cần thiết thì sẽ dùng</p>\n",
    "                <p>cắt tỉa alpha beta để cắt nó khỏi cây tìm kiếm, giảm thời gian tính toán</p>\n",
    "                <p>. Để tính toán điểm của trạng thái lá của bàn cờ, nhóm em đã dùng cách duyệt toàn bàn cờ để tính xem tại trạng thái</p>\n",
    "                <p>đó có bao nhiêu chuỗi liên tục của người đang xét, nếu là tính điểm cho người đại diện cho min sẽ trả về âm của giá </p>\n",
    "                <p>trị đó :   ( gọi 4 lần hàm cal_point để tính 4 hướng) </p>\n",
    "                <img src=\"minimax-1.png\"/>\n",
    "                <p>Ta sẽ có hàm FindPoint để tìm ra điểm AI sẽ đánh tiếp theo, hàm này sẽ gọi tới hàm sử dụng thuật toán minimax</p>\n",
    "                <img src=\"minimax-2.png\" style=\"width:600px\"/>\n",
    "                <img src=\"minimax-3.png\" style=\"width:600px\"/>\n",
    "            </div>\n",
    "        </li>\n",
    "    </ul>\n",
    "</div>"
   ]
  },
  {
   "cell_type": "markdown",
   "id": "65c3d293-c785-4be8-be04-91e46f172777",
   "metadata": {},
   "source": [
    "# Phần 2. Kết quả thực hiện"
   ]
  },
  {
   "cell_type": "markdown",
   "id": "2bb00ff9-94ec-4f05-bf8a-256f8d4fac61",
   "metadata": {},
   "source": [
    "### 2.1  Hình ảnh minh họa"
   ]
  },
  {
   "attachments": {},
   "cell_type": "markdown",
   "id": "7fe4699e-8399-4e06-beaa-a5c052f6c032",
   "metadata": {},
   "source": [
    "<div>\n",
    "    <ul>\n",
    "        <li>\n",
    "            <h4>Menu khi vào game</h4>\n",
    "            <img src=\"ketqua-1.png\" style=\"width:600px;\"/>\n",
    "        </li>\n",
    "        <li>\n",
    "            <h4>Bấm vào setting sẽ hiện ra 2 tùy chọn để chọn thuật toán AI sẽ sử dụng: </h4>\n",
    "            <img src=\"ketqua-2.png\" style=\"width:600px\"/>\n",
    "        </li>\n",
    "        <li>\n",
    "            <h4>Chọn 1 player để đấu với AI</h4>\n",
    "            <h4>Giao diện chính của game (hiện tại mặc định là người chơi đánh trước): </h4>\n",
    "            <img src=\"ketqua-3.png\" style=\"width:600px\"/>\n",
    "        </li>\n",
    "        <li>\n",
    "            <h4>Link sản phẩm demo: <a href=\"https://play.unity.com/mg/other/webgl-builds-378275\">game caro</a></h4>\n",
    "        </li>\n",
    "    </ul>\n",
    "</div>"
   ]
  },
  {
   "cell_type": "markdown",
   "id": "8fdffd06-1401-4f5a-bf18-33f0225f18a4",
   "metadata": {},
   "source": [
    "### 2.2  Đánh giá kết quả"
   ]
  },
  {
   "cell_type": "markdown",
   "id": "ebcb1404-a882-4055-89c1-b9c0150db293",
   "metadata": {},
   "source": [
    "<div style=\"margin-left:40px\">\n",
    "    <h4>Nhìn chung thì nhóm em cảm thấy sản phẩm của nhóm chúng em đã khá hoàn thiện, đã có thể sử dụng được nhưng mà</h4>\n",
    "    <h4>để người dùng có trải nghiệm tốt nhất thì vẫn cần tiếp tục nâng cấp như thêm chức năng chọn độ sâu cho thuật toán, </h4>\n",
    "    <h4>thêm hiệu ứng âm thanh...Và đặc biệt là cải thiện thuật toán, cách tính điểm cho hàm đánh giá để AI trở nên \"khôn\" hơn</h4>\n",
    "    <h4>và đồng thời có thể thêm 1 số chức năng phụ khác\n",
    "</div>"
   ]
  },
  {
   "cell_type": "markdown",
   "id": "b63b623f-a5a4-4826-8a9f-9cf7e89c4c90",
   "metadata": {},
   "source": [
    "# Phần 3. Những khó khăn gặp phải"
   ]
  },
  {
   "cell_type": "markdown",
   "id": "ce409c6e-fcec-424e-8362-af173866e96a",
   "metadata": {},
   "source": [
    "<div style=\"marin-left:40px\">\n",
    "    <ul>\n",
    "        <li>\n",
    "            <h4>Khó khăn lớn nhất mà nhóm em gặp phải đó là viết hàm đánh giá cách tính điểm cho AI để khi duyệt độ sâu càng</h4>\n",
    "            <h4>lớn sẽ càng thông minh, thực tế hiện tại nếu tăng độ sâu thì AI sẽ càng khó đánh giá đúng để chọn nước đi phù hợp</h4>\n",
    "        </li>\n",
    "        <li>\n",
    "            <h4>Để kiểm chứng thì nhóm em đã cho AI thử đấu với 1 số AI cờ caro khác trên internet và quả nhiên AI nhóm em thường thua</h4>\n",
    "            <h4>nhưng nhóm em vẫn chưa có phương hướng cải tiến, gần như đang bị rơi vào ngõ cụt</h4>\n",
    "        </li>\n",
    "        <li>\n",
    "            <h4>Nhóm em đang có ý định thêm chế độ AI machine learning nhưng không tìm thấy dữ liệu để training AI cũng như vì chưa ai  </h4>\n",
    "            <h4> trong nhóm từng học, tìm hiểu machine learning nên rất khó để thực hiện</h4>\n",
    "        </li>\n",
    "    </ul>\n",
    "</div>"
   ]
  },
  {
   "cell_type": "markdown",
   "id": "3d937527-1440-4fc2-9fcf-508a8f3b6e32",
   "metadata": {},
   "source": [
    "## Lời kết:\n",
    "<div style=\"margin-left:40px\">\n",
    "    <h4>Báo cáo tiến độ của nhóm em xin kết thúc tại đây, nếu thầy có nhận xét hay ý tưởng gì thì mong thầy</h4>\n",
    "    <h4> góp ý để nhóm em cải thiện ạ. Nhóm em sẽ tiếp tục hoàn thiện sản phẩm để nó trở nên hoàn hảo hơn</h4>\n",
    "</div>"
   ]
  },
  {
   "cell_type": "code",
   "execution_count": null,
   "id": "f53ac320-f6ab-4b56-9504-3de6d5957033",
   "metadata": {},
   "outputs": [],
   "source": []
  }
 ],
 "metadata": {
  "kernelspec": {
   "display_name": "Python 3 (ipykernel)",
   "language": "python",
   "name": "python3"
  },
  "language_info": {
   "codemirror_mode": {
    "name": "ipython",
    "version": 3
   },
   "file_extension": ".py",
   "mimetype": "text/x-python",
   "name": "python",
   "nbconvert_exporter": "python",
   "pygments_lexer": "ipython3",
   "version": "3.11.0"
  }
 },
 "nbformat": 4,
 "nbformat_minor": 5
}
